{
 "cells": [
  {
   "cell_type": "code",
   "execution_count": 1,
   "metadata": {},
   "outputs": [],
   "source": [
    "import numpy as np"
   ]
  },
  {
   "cell_type": "code",
   "execution_count": 2,
   "metadata": {},
   "outputs": [],
   "source": [
    "import pandas as pd"
   ]
  },
  {
   "cell_type": "code",
   "execution_count": 3,
   "metadata": {},
   "outputs": [],
   "source": [
    "import matplotlib.pyplot as plt\n",
    "%matplotlib inline"
   ]
  },
  {
   "cell_type": "code",
   "execution_count": 4,
   "metadata": {},
   "outputs": [],
   "source": [
    "df = pd.read_csv(\"list_v500.csv\")"
   ]
  },
  {
   "cell_type": "code",
   "execution_count": 5,
   "metadata": {},
   "outputs": [],
   "source": [
    "col_name = [\"description\",\"km\",\"year\",\"boite\",\"carburant\",\"type\",\n",
    "\"chevaux\",\"couleur\",\"m\",\"expertise\",\"date_annonce\",\"prix\"]"
   ]
  },
  {
   "cell_type": "code",
   "execution_count": 6,
   "metadata": {
    "scrolled": false
   },
   "outputs": [],
   "source": [
    "df = df[col_name]"
   ]
  },
  {
   "cell_type": "code",
   "execution_count": 7,
   "metadata": {},
   "outputs": [
    {
     "data": {
      "text/html": [
       "<div>\n",
       "<style scoped>\n",
       "    .dataframe tbody tr th:only-of-type {\n",
       "        vertical-align: middle;\n",
       "    }\n",
       "\n",
       "    .dataframe tbody tr th {\n",
       "        vertical-align: top;\n",
       "    }\n",
       "\n",
       "    .dataframe thead th {\n",
       "        text-align: right;\n",
       "    }\n",
       "</style>\n",
       "<table border=\"1\" class=\"dataframe\">\n",
       "  <thead>\n",
       "    <tr style=\"text-align: right;\">\n",
       "      <th></th>\n",
       "      <th>description</th>\n",
       "      <th>km</th>\n",
       "      <th>year</th>\n",
       "      <th>boite</th>\n",
       "      <th>carburant</th>\n",
       "      <th>type</th>\n",
       "      <th>chevaux</th>\n",
       "      <th>couleur</th>\n",
       "      <th>m</th>\n",
       "      <th>expertise</th>\n",
       "      <th>date_annonce</th>\n",
       "      <th>prix</th>\n",
       "    </tr>\n",
       "  </thead>\n",
       "  <tbody>\n",
       "    <tr>\n",
       "      <th>0</th>\n",
       "      <td>Octavia Combi 2.0 TSI RS DSG</td>\n",
       "      <td>0.0</td>\n",
       "      <td>2014.0</td>\n",
       "      <td>Automatique</td>\n",
       "      <td>Essence</td>\n",
       "      <td>Break</td>\n",
       "      <td>220.0</td>\n",
       "      <td>Gris</td>\n",
       "      <td>Traction avant</td>\n",
       "      <td>NaN</td>\n",
       "      <td>ingLocatio</td>\n",
       "      <td>19000.0</td>\n",
       "    </tr>\n",
       "    <tr>\n",
       "      <th>1</th>\n",
       "      <td>Octavia 1.8TSI Scout 4x4</td>\n",
       "      <td>0.0</td>\n",
       "      <td>2015.0</td>\n",
       "      <td>Automatique</td>\n",
       "      <td>Essence</td>\n",
       "      <td>Break</td>\n",
       "      <td>180.0</td>\n",
       "      <td>Gris</td>\n",
       "      <td>4 roues motrices</td>\n",
       "      <td>NaN</td>\n",
       "      <td>ingLocatio</td>\n",
       "      <td>19950.0</td>\n",
       "    </tr>\n",
       "    <tr>\n",
       "      <th>2</th>\n",
       "      <td>Octavia</td>\n",
       "      <td>0.0</td>\n",
       "      <td>2017.0</td>\n",
       "      <td>Manuelle</td>\n",
       "      <td>Diesel</td>\n",
       "      <td>Break</td>\n",
       "      <td>NaN</td>\n",
       "      <td>NaN</td>\n",
       "      <td>Traction avant</td>\n",
       "      <td>0.0</td>\n",
       "      <td>{\"event\":\"</td>\n",
       "      <td>18350.0</td>\n",
       "    </tr>\n",
       "    <tr>\n",
       "      <th>3</th>\n",
       "      <td>Octavia Combi 2.0 TDI RS</td>\n",
       "      <td>0.0</td>\n",
       "      <td>2015.0</td>\n",
       "      <td>Manuelle</td>\n",
       "      <td>Diesel</td>\n",
       "      <td>Break</td>\n",
       "      <td>184.0</td>\n",
       "      <td>Gris</td>\n",
       "      <td>Traction avant</td>\n",
       "      <td>NaN</td>\n",
       "      <td>ingLocatio</td>\n",
       "      <td>22900.0</td>\n",
       "    </tr>\n",
       "    <tr>\n",
       "      <th>4</th>\n",
       "      <td>Octavia Combi 1.8 TSI Ambition 4x4 DSG</td>\n",
       "      <td>0.0</td>\n",
       "      <td>2016.0</td>\n",
       "      <td>Automatique</td>\n",
       "      <td>Essence</td>\n",
       "      <td>Break</td>\n",
       "      <td>180.0</td>\n",
       "      <td>Noir</td>\n",
       "      <td>4 roues motrices</td>\n",
       "      <td>0.0</td>\n",
       "      <td>01.06.2019</td>\n",
       "      <td>19600.0</td>\n",
       "    </tr>\n",
       "    <tr>\n",
       "      <th>5</th>\n",
       "      <td>Octavia 2.0 TSI RS 230</td>\n",
       "      <td>0.0</td>\n",
       "      <td>2015.0</td>\n",
       "      <td>Automatique</td>\n",
       "      <td>Essence</td>\n",
       "      <td>Break</td>\n",
       "      <td>230.0</td>\n",
       "      <td>Gris</td>\n",
       "      <td>Traction avant</td>\n",
       "      <td>0.0</td>\n",
       "      <td>01.06.2019</td>\n",
       "      <td>32900.0</td>\n",
       "    </tr>\n",
       "    <tr>\n",
       "      <th>6</th>\n",
       "      <td>Octavia Combi 2.0 TDI Style 4x4</td>\n",
       "      <td>3.0</td>\n",
       "      <td>2018.0</td>\n",
       "      <td>Automatique</td>\n",
       "      <td>Diesel</td>\n",
       "      <td>Break</td>\n",
       "      <td>184.0</td>\n",
       "      <td>Argent</td>\n",
       "      <td>4 roues motrices</td>\n",
       "      <td>0.0</td>\n",
       "      <td>01.06.2019</td>\n",
       "      <td>27500.0</td>\n",
       "    </tr>\n",
       "    <tr>\n",
       "      <th>7</th>\n",
       "      <td>OCTAVIA Combi 1.6 TDI 115 Ambition 4x4</td>\n",
       "      <td>30.0</td>\n",
       "      <td>2019.0</td>\n",
       "      <td>Manuelle</td>\n",
       "      <td>Diesel</td>\n",
       "      <td>Break</td>\n",
       "      <td>115.0</td>\n",
       "      <td>Argent</td>\n",
       "      <td>4 roues motrices</td>\n",
       "      <td>0.0</td>\n",
       "      <td>01.06.2019</td>\n",
       "      <td>27560.0</td>\n",
       "    </tr>\n",
       "    <tr>\n",
       "      <th>8</th>\n",
       "      <td>Octavia 2.0 TDI RS</td>\n",
       "      <td>0.0</td>\n",
       "      <td>2013.0</td>\n",
       "      <td>Manuelle</td>\n",
       "      <td>Diesel</td>\n",
       "      <td>Break</td>\n",
       "      <td>184.0</td>\n",
       "      <td>Noir</td>\n",
       "      <td>Traction avant</td>\n",
       "      <td>0.0</td>\n",
       "      <td>01.06.2019</td>\n",
       "      <td>17820.0</td>\n",
       "    </tr>\n",
       "    <tr>\n",
       "      <th>9</th>\n",
       "      <td>Octavia Combi 1.4 TSI G-tec Ambition CNG DSG</td>\n",
       "      <td>0.0</td>\n",
       "      <td>2018.0</td>\n",
       "      <td>Automatique</td>\n",
       "      <td>Gas (LNG, LPG, GPL, CNG)</td>\n",
       "      <td>Break</td>\n",
       "      <td>110.0</td>\n",
       "      <td>Blanc</td>\n",
       "      <td>Traction avant</td>\n",
       "      <td>0.0</td>\n",
       "      <td>01.06.2019</td>\n",
       "      <td>22800.0</td>\n",
       "    </tr>\n",
       "    <tr>\n",
       "      <th>10</th>\n",
       "      <td>Octavia Combi 2.0 TDI RS DSG</td>\n",
       "      <td>0.0</td>\n",
       "      <td>2014.0</td>\n",
       "      <td>Automatique</td>\n",
       "      <td>Diesel</td>\n",
       "      <td>Break</td>\n",
       "      <td>184.0</td>\n",
       "      <td>Argent</td>\n",
       "      <td>Traction avant</td>\n",
       "      <td>0.0</td>\n",
       "      <td>01.06.2019</td>\n",
       "      <td>15999.0</td>\n",
       "    </tr>\n",
       "    <tr>\n",
       "      <th>11</th>\n",
       "      <td>Octavia Combi 2.0 TDI Style 4x4 DSG</td>\n",
       "      <td>0.0</td>\n",
       "      <td>2016.0</td>\n",
       "      <td>Automatique</td>\n",
       "      <td>Diesel</td>\n",
       "      <td>Break</td>\n",
       "      <td>184.0</td>\n",
       "      <td>Bleu</td>\n",
       "      <td>4 roues motrices</td>\n",
       "      <td>0.0</td>\n",
       "      <td>01.06.2019</td>\n",
       "      <td>15700.0</td>\n",
       "    </tr>\n",
       "    <tr>\n",
       "      <th>12</th>\n",
       "      <td>Octavia Combi 2.0 TSI RS DSG</td>\n",
       "      <td>0.0</td>\n",
       "      <td>2014.0</td>\n",
       "      <td>Automatique</td>\n",
       "      <td>Essence</td>\n",
       "      <td>Break</td>\n",
       "      <td>220.0</td>\n",
       "      <td>Blanc</td>\n",
       "      <td>Traction avant</td>\n",
       "      <td>0.0</td>\n",
       "      <td>01.06.2019</td>\n",
       "      <td>22890.0</td>\n",
       "    </tr>\n",
       "    <tr>\n",
       "      <th>13</th>\n",
       "      <td>Octavia Combi 2.0 TDI RS DSG</td>\n",
       "      <td>0.0</td>\n",
       "      <td>2014.0</td>\n",
       "      <td>Automatique</td>\n",
       "      <td>Diesel</td>\n",
       "      <td>Break</td>\n",
       "      <td>184.0</td>\n",
       "      <td>Blanc</td>\n",
       "      <td>Traction avant</td>\n",
       "      <td>0.0</td>\n",
       "      <td>01.06.2019</td>\n",
       "      <td>18800.0</td>\n",
       "    </tr>\n",
       "    <tr>\n",
       "      <th>14</th>\n",
       "      <td>Octavia Combi 2.0 TDI RS 4x4 DSG</td>\n",
       "      <td>0.0</td>\n",
       "      <td>2018.0</td>\n",
       "      <td>Automatique</td>\n",
       "      <td>Diesel</td>\n",
       "      <td>Break</td>\n",
       "      <td>184.0</td>\n",
       "      <td>Argent</td>\n",
       "      <td>4 roues motrices</td>\n",
       "      <td>0.0</td>\n",
       "      <td>01.06.2019</td>\n",
       "      <td>26900.0</td>\n",
       "    </tr>\n",
       "    <tr>\n",
       "      <th>15</th>\n",
       "      <td>Octavia Combi 2.0 TDI RS</td>\n",
       "      <td>0.0</td>\n",
       "      <td>2014.0</td>\n",
       "      <td>Manuelle</td>\n",
       "      <td>Diesel</td>\n",
       "      <td>Break</td>\n",
       "      <td>184.0</td>\n",
       "      <td>Bleu</td>\n",
       "      <td>Traction avant</td>\n",
       "      <td>NaN</td>\n",
       "      <td>ingLocatio</td>\n",
       "      <td>20900.0</td>\n",
       "    </tr>\n",
       "    <tr>\n",
       "      <th>16</th>\n",
       "      <td>Octavia Combi 2.0 TDI RS DSG</td>\n",
       "      <td>0.0</td>\n",
       "      <td>2015.0</td>\n",
       "      <td>Automatique</td>\n",
       "      <td>Diesel</td>\n",
       "      <td>Break</td>\n",
       "      <td>184.0</td>\n",
       "      <td>Gris</td>\n",
       "      <td>Traction avant</td>\n",
       "      <td>0.0</td>\n",
       "      <td>01.06.2019</td>\n",
       "      <td>15999.0</td>\n",
       "    </tr>\n",
       "    <tr>\n",
       "      <th>17</th>\n",
       "      <td>Octavia Combi 2.0 TDI RS XTREME</td>\n",
       "      <td>50.0</td>\n",
       "      <td>2019.0</td>\n",
       "      <td>Manuelle</td>\n",
       "      <td>Diesel</td>\n",
       "      <td>Break</td>\n",
       "      <td>184.0</td>\n",
       "      <td>Gris</td>\n",
       "      <td>Traction avant</td>\n",
       "      <td>0.0</td>\n",
       "      <td>01.06.2019</td>\n",
       "      <td>34950.0</td>\n",
       "    </tr>\n",
       "    <tr>\n",
       "      <th>18</th>\n",
       "      <td>Octavia Combi 2.0 TDI RS XTREME 4x4 DSG</td>\n",
       "      <td>0.0</td>\n",
       "      <td>2018.0</td>\n",
       "      <td>Automatique</td>\n",
       "      <td>Diesel</td>\n",
       "      <td>Break</td>\n",
       "      <td>184.0</td>\n",
       "      <td>Rouge</td>\n",
       "      <td>4 roues motrices</td>\n",
       "      <td>0.0</td>\n",
       "      <td>01.06.2019</td>\n",
       "      <td>35950.0</td>\n",
       "    </tr>\n",
       "    <tr>\n",
       "      <th>19</th>\n",
       "      <td>Octavia Combi 1.4 TSI Style DSG</td>\n",
       "      <td>0.0</td>\n",
       "      <td>2016.0</td>\n",
       "      <td>Automatique</td>\n",
       "      <td>Essence</td>\n",
       "      <td>Break</td>\n",
       "      <td>150.0</td>\n",
       "      <td>Anthracite</td>\n",
       "      <td>Traction avant</td>\n",
       "      <td>0.0</td>\n",
       "      <td>31.05.2019</td>\n",
       "      <td>17900.0</td>\n",
       "    </tr>\n",
       "    <tr>\n",
       "      <th>20</th>\n",
       "      <td>Octavia Combi 2.0 TDI Swiss Line 25 4x4</td>\n",
       "      <td>0.0</td>\n",
       "      <td>2017.0</td>\n",
       "      <td>Manuelle</td>\n",
       "      <td>Diesel</td>\n",
       "      <td>Break</td>\n",
       "      <td>150.0</td>\n",
       "      <td>Bleu</td>\n",
       "      <td>4 roues motrices</td>\n",
       "      <td>0.0</td>\n",
       "      <td>31.05.2019</td>\n",
       "      <td>20800.0</td>\n",
       "    </tr>\n",
       "    <tr>\n",
       "      <th>21</th>\n",
       "      <td>Octavia Combi 2.0 TDI Clever DSG</td>\n",
       "      <td>0.0</td>\n",
       "      <td>2018.0</td>\n",
       "      <td>Automatique</td>\n",
       "      <td>Diesel</td>\n",
       "      <td>Break</td>\n",
       "      <td>150.0</td>\n",
       "      <td>Argent</td>\n",
       "      <td>Traction avant</td>\n",
       "      <td>0.0</td>\n",
       "      <td>31.05.2019</td>\n",
       "      <td>33900.0</td>\n",
       "    </tr>\n",
       "    <tr>\n",
       "      <th>22</th>\n",
       "      <td>Octavia Combi 1.8 TSI Elegance 4x4 DSG</td>\n",
       "      <td>0.0</td>\n",
       "      <td>2014.0</td>\n",
       "      <td>Automatique</td>\n",
       "      <td>Essence</td>\n",
       "      <td>Break</td>\n",
       "      <td>180.0</td>\n",
       "      <td>Beige</td>\n",
       "      <td>4 roues motrices</td>\n",
       "      <td>NaN</td>\n",
       "      <td>ingLocatio</td>\n",
       "      <td>18900.0</td>\n",
       "    </tr>\n",
       "    <tr>\n",
       "      <th>23</th>\n",
       "      <td>Octavia Combi 2.0 TDI Ambition DSG</td>\n",
       "      <td>0.0</td>\n",
       "      <td>2018.0</td>\n",
       "      <td>Automatique</td>\n",
       "      <td>Diesel</td>\n",
       "      <td>Break</td>\n",
       "      <td>150.0</td>\n",
       "      <td>Noir</td>\n",
       "      <td>Traction avant</td>\n",
       "      <td>0.0</td>\n",
       "      <td>31.05.2019</td>\n",
       "      <td>22555.0</td>\n",
       "    </tr>\n",
       "    <tr>\n",
       "      <th>24</th>\n",
       "      <td>Octavia Combi 2.0 TDI Elegance 4x4 DSG</td>\n",
       "      <td>0.0</td>\n",
       "      <td>2015.0</td>\n",
       "      <td>Automatique</td>\n",
       "      <td>Diesel</td>\n",
       "      <td>Break</td>\n",
       "      <td>184.0</td>\n",
       "      <td>Gris</td>\n",
       "      <td>4 roues motrices</td>\n",
       "      <td>NaN</td>\n",
       "      <td>ingLocatio</td>\n",
       "      <td>21900.0</td>\n",
       "    </tr>\n",
       "    <tr>\n",
       "      <th>25</th>\n",
       "      <td>Octavia Combi 2.0 TSI Style DSG</td>\n",
       "      <td>50.0</td>\n",
       "      <td>2019.0</td>\n",
       "      <td>Automatique</td>\n",
       "      <td>Essence</td>\n",
       "      <td>Break</td>\n",
       "      <td>190.0</td>\n",
       "      <td>Argent</td>\n",
       "      <td>Traction avant</td>\n",
       "      <td>0.0</td>\n",
       "      <td>31.05.2019</td>\n",
       "      <td>42500.0</td>\n",
       "    </tr>\n",
       "    <tr>\n",
       "      <th>26</th>\n",
       "      <td>Octavia Combi 2.0 TDI RS 4x4 DSG</td>\n",
       "      <td>20.0</td>\n",
       "      <td>2019.0</td>\n",
       "      <td>Automatique</td>\n",
       "      <td>Diesel</td>\n",
       "      <td>Break</td>\n",
       "      <td>184.0</td>\n",
       "      <td>Gris</td>\n",
       "      <td>4 roues motrices</td>\n",
       "      <td>0.0</td>\n",
       "      <td>31.05.2019</td>\n",
       "      <td>43900.0</td>\n",
       "    </tr>\n",
       "    <tr>\n",
       "      <th>27</th>\n",
       "      <td>Octavia Combi 2.0 TDI Style 4x4</td>\n",
       "      <td>0.0</td>\n",
       "      <td>2018.0</td>\n",
       "      <td>Automatique</td>\n",
       "      <td>Diesel</td>\n",
       "      <td>Break</td>\n",
       "      <td>184.0</td>\n",
       "      <td>Gris</td>\n",
       "      <td>4 roues motrices</td>\n",
       "      <td>0.0</td>\n",
       "      <td>31.05.2019</td>\n",
       "      <td>27900.0</td>\n",
       "    </tr>\n",
       "    <tr>\n",
       "      <th>28</th>\n",
       "      <td>Octavia Combi 1.4 TSI Style DSG</td>\n",
       "      <td>0.0</td>\n",
       "      <td>2018.0</td>\n",
       "      <td>Automatique</td>\n",
       "      <td>Essence</td>\n",
       "      <td>Break</td>\n",
       "      <td>150.0</td>\n",
       "      <td>Blanc</td>\n",
       "      <td>Traction avant</td>\n",
       "      <td>0.0</td>\n",
       "      <td>31.05.2019</td>\n",
       "      <td>23400.0</td>\n",
       "    </tr>\n",
       "    <tr>\n",
       "      <th>29</th>\n",
       "      <td>Octavia Combi 1.4 TSI Ambition DSG</td>\n",
       "      <td>0.0</td>\n",
       "      <td>2015.0</td>\n",
       "      <td>Automatique</td>\n",
       "      <td>Essence</td>\n",
       "      <td>Break</td>\n",
       "      <td>140.0</td>\n",
       "      <td>Blanc</td>\n",
       "      <td>Traction avant</td>\n",
       "      <td>NaN</td>\n",
       "      <td>ingLocatio</td>\n",
       "      <td>16990.0</td>\n",
       "    </tr>\n",
       "    <tr>\n",
       "      <th>...</th>\n",
       "      <td>...</td>\n",
       "      <td>...</td>\n",
       "      <td>...</td>\n",
       "      <td>...</td>\n",
       "      <td>...</td>\n",
       "      <td>...</td>\n",
       "      <td>...</td>\n",
       "      <td>...</td>\n",
       "      <td>...</td>\n",
       "      <td>...</td>\n",
       "      <td>...</td>\n",
       "      <td>...</td>\n",
       "    </tr>\n",
       "    <tr>\n",
       "      <th>469</th>\n",
       "      <td>Octavia 2.0 TSI RS</td>\n",
       "      <td>0.0</td>\n",
       "      <td>2015.0</td>\n",
       "      <td>Automatique</td>\n",
       "      <td>Essence</td>\n",
       "      <td>Break</td>\n",
       "      <td>220.0</td>\n",
       "      <td>Gris</td>\n",
       "      <td>Traction avant</td>\n",
       "      <td>0.0</td>\n",
       "      <td>03.05.2019</td>\n",
       "      <td>21900.0</td>\n",
       "    </tr>\n",
       "    <tr>\n",
       "      <th>470</th>\n",
       "      <td>Octavia Combi 2.0 TDI RS DSG</td>\n",
       "      <td>0.0</td>\n",
       "      <td>2016.0</td>\n",
       "      <td>Automatique</td>\n",
       "      <td>Diesel</td>\n",
       "      <td>Break</td>\n",
       "      <td>184.0</td>\n",
       "      <td>Blanc</td>\n",
       "      <td>Traction avant</td>\n",
       "      <td>0.0</td>\n",
       "      <td>02.05.2019</td>\n",
       "      <td>22900.0</td>\n",
       "    </tr>\n",
       "    <tr>\n",
       "      <th>471</th>\n",
       "      <td>Octavia 1.8TSI Style 4x4</td>\n",
       "      <td>0.0</td>\n",
       "      <td>2016.0</td>\n",
       "      <td>Automatique</td>\n",
       "      <td>Essence</td>\n",
       "      <td>Break</td>\n",
       "      <td>180.0</td>\n",
       "      <td>Gris</td>\n",
       "      <td>4 roues motrices</td>\n",
       "      <td>0.0</td>\n",
       "      <td>02.05.2019</td>\n",
       "      <td>25400.0</td>\n",
       "    </tr>\n",
       "    <tr>\n",
       "      <th>472</th>\n",
       "      <td>Octavia Combi 2.0 TSI RS</td>\n",
       "      <td>0.0</td>\n",
       "      <td>2015.0</td>\n",
       "      <td>Manuelle</td>\n",
       "      <td>Essence</td>\n",
       "      <td>Break</td>\n",
       "      <td>220.0</td>\n",
       "      <td>Noir</td>\n",
       "      <td>Traction avant</td>\n",
       "      <td>NaN</td>\n",
       "      <td>ingLocatio</td>\n",
       "      <td>26900.0</td>\n",
       "    </tr>\n",
       "    <tr>\n",
       "      <th>473</th>\n",
       "      <td>Octavia 1.5 G-tec AmbitionCNG</td>\n",
       "      <td>20.0</td>\n",
       "      <td>2019.0</td>\n",
       "      <td>Automatique</td>\n",
       "      <td>Essence</td>\n",
       "      <td>Break</td>\n",
       "      <td>130.0</td>\n",
       "      <td>Blanc</td>\n",
       "      <td>Traction avant</td>\n",
       "      <td>0.0</td>\n",
       "      <td>02.05.2019</td>\n",
       "      <td>28990.0</td>\n",
       "    </tr>\n",
       "    <tr>\n",
       "      <th>474</th>\n",
       "      <td>Octavia Combi 2.0 TSI RS DSG</td>\n",
       "      <td>0.0</td>\n",
       "      <td>2014.0</td>\n",
       "      <td>Automatique</td>\n",
       "      <td>Essence</td>\n",
       "      <td>Break</td>\n",
       "      <td>220.0</td>\n",
       "      <td>Bleu</td>\n",
       "      <td>Traction avant</td>\n",
       "      <td>0.0</td>\n",
       "      <td>02.05.2019</td>\n",
       "      <td>22900.0</td>\n",
       "    </tr>\n",
       "    <tr>\n",
       "      <th>475</th>\n",
       "      <td>Octavia Combi 2.0 TDI Ambition 4x4 DSG</td>\n",
       "      <td>50.0</td>\n",
       "      <td>2019.0</td>\n",
       "      <td>Automatique</td>\n",
       "      <td>Diesel</td>\n",
       "      <td>Break</td>\n",
       "      <td>150.0</td>\n",
       "      <td>Blanc</td>\n",
       "      <td>4 roues motrices</td>\n",
       "      <td>0.0</td>\n",
       "      <td>02.05.2019</td>\n",
       "      <td>32400.0</td>\n",
       "    </tr>\n",
       "    <tr>\n",
       "      <th>476</th>\n",
       "      <td>Octavia Combi 2.0 TSI Clever 4x4 DSG</td>\n",
       "      <td>0.0</td>\n",
       "      <td>2019.0</td>\n",
       "      <td>Automatique</td>\n",
       "      <td>Essence</td>\n",
       "      <td>Break</td>\n",
       "      <td>190.0</td>\n",
       "      <td>Blanc</td>\n",
       "      <td>4 roues motrices</td>\n",
       "      <td>0.0</td>\n",
       "      <td>02.05.2019</td>\n",
       "      <td>33990.0</td>\n",
       "    </tr>\n",
       "    <tr>\n",
       "      <th>477</th>\n",
       "      <td>Octavia 1.5 G-tec AmbitionCNG</td>\n",
       "      <td>20.0</td>\n",
       "      <td>2019.0</td>\n",
       "      <td>Automatique</td>\n",
       "      <td>Essence</td>\n",
       "      <td>Break</td>\n",
       "      <td>130.0</td>\n",
       "      <td>Noir</td>\n",
       "      <td>Traction avant</td>\n",
       "      <td>0.0</td>\n",
       "      <td>02.05.2019</td>\n",
       "      <td>32200.0</td>\n",
       "    </tr>\n",
       "    <tr>\n",
       "      <th>478</th>\n",
       "      <td>Octavia Combi 2.0 TDI Ambition 4x4 DSG</td>\n",
       "      <td>50.0</td>\n",
       "      <td>2019.0</td>\n",
       "      <td>Automatique</td>\n",
       "      <td>Diesel</td>\n",
       "      <td>Break</td>\n",
       "      <td>150.0</td>\n",
       "      <td>Argent</td>\n",
       "      <td>4 roues motrices</td>\n",
       "      <td>0.0</td>\n",
       "      <td>02.05.2019</td>\n",
       "      <td>33990.0</td>\n",
       "    </tr>\n",
       "    <tr>\n",
       "      <th>479</th>\n",
       "      <td>Octavia Combi 1.5 TSI Soleil</td>\n",
       "      <td>50.0</td>\n",
       "      <td>2019.0</td>\n",
       "      <td>Manuelle</td>\n",
       "      <td>Essence</td>\n",
       "      <td>Break</td>\n",
       "      <td>150.0</td>\n",
       "      <td>Blanc</td>\n",
       "      <td>Traction avant</td>\n",
       "      <td>0.0</td>\n",
       "      <td>02.05.2019</td>\n",
       "      <td>28900.0</td>\n",
       "    </tr>\n",
       "    <tr>\n",
       "      <th>480</th>\n",
       "      <td>Octavia 2.0 TSI RS</td>\n",
       "      <td>0.0</td>\n",
       "      <td>2014.0</td>\n",
       "      <td>Manuelle</td>\n",
       "      <td>Essence</td>\n",
       "      <td>Break</td>\n",
       "      <td>220.0</td>\n",
       "      <td>Blanc</td>\n",
       "      <td>Traction avant</td>\n",
       "      <td>NaN</td>\n",
       "      <td>ingLocatio</td>\n",
       "      <td>25990.0</td>\n",
       "    </tr>\n",
       "    <tr>\n",
       "      <th>481</th>\n",
       "      <td>Octavia Combi 1.5 TSI Soleil DSG</td>\n",
       "      <td>1.0</td>\n",
       "      <td>2019.0</td>\n",
       "      <td>Automatique</td>\n",
       "      <td>Essence</td>\n",
       "      <td>Break</td>\n",
       "      <td>150.0</td>\n",
       "      <td>Noir</td>\n",
       "      <td>Traction avant</td>\n",
       "      <td>0.0</td>\n",
       "      <td>02.05.2019</td>\n",
       "      <td>32490.0</td>\n",
       "    </tr>\n",
       "    <tr>\n",
       "      <th>482</th>\n",
       "      <td>Octavia Combi 2.0 TDI Ambition 4x4 DSG</td>\n",
       "      <td>0.0</td>\n",
       "      <td>2017.0</td>\n",
       "      <td>Automatique</td>\n",
       "      <td>Diesel</td>\n",
       "      <td>Break</td>\n",
       "      <td>184.0</td>\n",
       "      <td>Blanc</td>\n",
       "      <td>4 roues motrices</td>\n",
       "      <td>0.0</td>\n",
       "      <td>02.05.2019</td>\n",
       "      <td>23900.0</td>\n",
       "    </tr>\n",
       "    <tr>\n",
       "      <th>483</th>\n",
       "      <td>Octavia Combi 1.4 TSI Style DSG</td>\n",
       "      <td>0.0</td>\n",
       "      <td>2018.0</td>\n",
       "      <td>Automatique</td>\n",
       "      <td>Essence</td>\n",
       "      <td>Break</td>\n",
       "      <td>150.0</td>\n",
       "      <td>Noir</td>\n",
       "      <td>Traction avant</td>\n",
       "      <td>0.0</td>\n",
       "      <td>02.05.2019</td>\n",
       "      <td>24750.0</td>\n",
       "    </tr>\n",
       "    <tr>\n",
       "      <th>484</th>\n",
       "      <td>Octavia Combi 2.0 TDI RS 4x4 DSG</td>\n",
       "      <td>0.0</td>\n",
       "      <td>2017.0</td>\n",
       "      <td>Automatique</td>\n",
       "      <td>Diesel</td>\n",
       "      <td>Break</td>\n",
       "      <td>184.0</td>\n",
       "      <td>Bleu</td>\n",
       "      <td>4 roues motrices</td>\n",
       "      <td>0.0</td>\n",
       "      <td>02.05.2019</td>\n",
       "      <td>33990.0</td>\n",
       "    </tr>\n",
       "    <tr>\n",
       "      <th>485</th>\n",
       "      <td>Octavia 2.0 TSI RS Line 4x4</td>\n",
       "      <td>5.0</td>\n",
       "      <td>2019.0</td>\n",
       "      <td>Automatique</td>\n",
       "      <td>Essence</td>\n",
       "      <td>Break</td>\n",
       "      <td>230.0</td>\n",
       "      <td>Noir</td>\n",
       "      <td>4 roues motrices</td>\n",
       "      <td>NaN</td>\n",
       "      <td>ingLocatio</td>\n",
       "      <td>32890.0</td>\n",
       "    </tr>\n",
       "    <tr>\n",
       "      <th>486</th>\n",
       "      <td>Octavia Combi 2.0 TSI RS DSG</td>\n",
       "      <td>0.0</td>\n",
       "      <td>2018.0</td>\n",
       "      <td>Automatique</td>\n",
       "      <td>Essence</td>\n",
       "      <td>Break</td>\n",
       "      <td>245.0</td>\n",
       "      <td>Gris</td>\n",
       "      <td>Traction avant</td>\n",
       "      <td>0.0</td>\n",
       "      <td>02.05.2019</td>\n",
       "      <td>35890.0</td>\n",
       "    </tr>\n",
       "    <tr>\n",
       "      <th>487</th>\n",
       "      <td>Octavia Combi 2.0 TDI Style 4x4</td>\n",
       "      <td>0.0</td>\n",
       "      <td>2018.0</td>\n",
       "      <td>Automatique</td>\n",
       "      <td>Diesel</td>\n",
       "      <td>Break</td>\n",
       "      <td>184.0</td>\n",
       "      <td>Argent</td>\n",
       "      <td>4 roues motrices</td>\n",
       "      <td>0.0</td>\n",
       "      <td>01.05.2019</td>\n",
       "      <td>25900.0</td>\n",
       "    </tr>\n",
       "    <tr>\n",
       "      <th>488</th>\n",
       "      <td>OCTAVIA Combi 2.0TSI RS</td>\n",
       "      <td>10.0</td>\n",
       "      <td>2019.0</td>\n",
       "      <td>Automatique</td>\n",
       "      <td>Essence</td>\n",
       "      <td>Break</td>\n",
       "      <td>245.0</td>\n",
       "      <td>Gris</td>\n",
       "      <td>Traction avant</td>\n",
       "      <td>0.0</td>\n",
       "      <td>01.05.2019</td>\n",
       "      <td>34800.0</td>\n",
       "    </tr>\n",
       "    <tr>\n",
       "      <th>489</th>\n",
       "      <td>Octavia Combi 1.4 TSI Style DSG</td>\n",
       "      <td>0.0</td>\n",
       "      <td>2018.0</td>\n",
       "      <td>Automatique</td>\n",
       "      <td>Essence</td>\n",
       "      <td>Break</td>\n",
       "      <td>150.0</td>\n",
       "      <td>Noir</td>\n",
       "      <td>Traction avant</td>\n",
       "      <td>0.0</td>\n",
       "      <td>01.05.2019</td>\n",
       "      <td>23200.0</td>\n",
       "    </tr>\n",
       "    <tr>\n",
       "      <th>490</th>\n",
       "      <td>Octavia Combi 2.0 TDI RS 4x4 DSG</td>\n",
       "      <td>0.0</td>\n",
       "      <td>2018.0</td>\n",
       "      <td>Automatique</td>\n",
       "      <td>Diesel</td>\n",
       "      <td>Break</td>\n",
       "      <td>184.0</td>\n",
       "      <td>Argent</td>\n",
       "      <td>4 roues motrices</td>\n",
       "      <td>0.0</td>\n",
       "      <td>01.05.2019</td>\n",
       "      <td>29890.0</td>\n",
       "    </tr>\n",
       "    <tr>\n",
       "      <th>491</th>\n",
       "      <td>Octavia Combi 2.0 TDI Ambition DSG</td>\n",
       "      <td>0.0</td>\n",
       "      <td>2018.0</td>\n",
       "      <td>Automatique</td>\n",
       "      <td>Diesel</td>\n",
       "      <td>Break</td>\n",
       "      <td>150.0</td>\n",
       "      <td>Argent</td>\n",
       "      <td>Traction avant</td>\n",
       "      <td>0.0</td>\n",
       "      <td>01.05.2019</td>\n",
       "      <td>23500.0</td>\n",
       "    </tr>\n",
       "    <tr>\n",
       "      <th>492</th>\n",
       "      <td>Octavia Combi 1.4 TSI Fresh DSG</td>\n",
       "      <td>0.0</td>\n",
       "      <td>2015.0</td>\n",
       "      <td>Automatique</td>\n",
       "      <td>Essence</td>\n",
       "      <td>Break</td>\n",
       "      <td>140.0</td>\n",
       "      <td>Anthracite</td>\n",
       "      <td>Traction avant</td>\n",
       "      <td>0.0</td>\n",
       "      <td>01.05.2019</td>\n",
       "      <td>15500.0</td>\n",
       "    </tr>\n",
       "    <tr>\n",
       "      <th>493</th>\n",
       "      <td>Octavia Combi 2.0 TSI RS</td>\n",
       "      <td>0.0</td>\n",
       "      <td>2015.0</td>\n",
       "      <td>Manuelle</td>\n",
       "      <td>Essence</td>\n",
       "      <td>Break</td>\n",
       "      <td>220.0</td>\n",
       "      <td>Gris</td>\n",
       "      <td>Traction avant</td>\n",
       "      <td>NaN</td>\n",
       "      <td>ingLocatio</td>\n",
       "      <td>26990.0</td>\n",
       "    </tr>\n",
       "    <tr>\n",
       "      <th>494</th>\n",
       "      <td>Octavia Combi 2.0 TSI RS 230 DSG</td>\n",
       "      <td>0.0</td>\n",
       "      <td>2016.0</td>\n",
       "      <td>Automatique</td>\n",
       "      <td>Essence</td>\n",
       "      <td>Break</td>\n",
       "      <td>230.0</td>\n",
       "      <td>Noir</td>\n",
       "      <td>Traction avant</td>\n",
       "      <td>NaN</td>\n",
       "      <td>ingLocatio</td>\n",
       "      <td>28450.0</td>\n",
       "    </tr>\n",
       "    <tr>\n",
       "      <th>495</th>\n",
       "      <td>Octavia 1.5 G-tec Style CNG</td>\n",
       "      <td>0.0</td>\n",
       "      <td>2019.0</td>\n",
       "      <td>Automatique</td>\n",
       "      <td>Essence</td>\n",
       "      <td>Break</td>\n",
       "      <td>130.0</td>\n",
       "      <td>Gris</td>\n",
       "      <td>Traction avant</td>\n",
       "      <td>0.0</td>\n",
       "      <td>01.05.2019</td>\n",
       "      <td>35300.0</td>\n",
       "    </tr>\n",
       "    <tr>\n",
       "      <th>496</th>\n",
       "      <td>Octavia Combi 2.0 TDI Style 4x4</td>\n",
       "      <td>1.0</td>\n",
       "      <td>2018.0</td>\n",
       "      <td>Automatique</td>\n",
       "      <td>Diesel</td>\n",
       "      <td>Break</td>\n",
       "      <td>184.0</td>\n",
       "      <td>Bleu</td>\n",
       "      <td>4 roues motrices</td>\n",
       "      <td>0.0</td>\n",
       "      <td>01.05.2019</td>\n",
       "      <td>28000.0</td>\n",
       "    </tr>\n",
       "    <tr>\n",
       "      <th>497</th>\n",
       "      <td>Octavia 2.0 TSI RS Line 4x4</td>\n",
       "      <td>5.0</td>\n",
       "      <td>2019.0</td>\n",
       "      <td>Automatique</td>\n",
       "      <td>Essence</td>\n",
       "      <td>Break</td>\n",
       "      <td>230.0</td>\n",
       "      <td>Gris</td>\n",
       "      <td>4 roues motrices</td>\n",
       "      <td>0.0</td>\n",
       "      <td>01.05.2019</td>\n",
       "      <td>32890.0</td>\n",
       "    </tr>\n",
       "    <tr>\n",
       "      <th>498</th>\n",
       "      <td>Octavia RS</td>\n",
       "      <td>0.0</td>\n",
       "      <td>2018.0</td>\n",
       "      <td>Automatique</td>\n",
       "      <td>Diesel</td>\n",
       "      <td>Break</td>\n",
       "      <td>184.0</td>\n",
       "      <td>NaN</td>\n",
       "      <td>4 roues motrices</td>\n",
       "      <td>NaN</td>\n",
       "      <td>{\"event\":\"</td>\n",
       "      <td>35990.0</td>\n",
       "    </tr>\n",
       "  </tbody>\n",
       "</table>\n",
       "<p>499 rows × 12 columns</p>\n",
       "</div>"
      ],
      "text/plain": [
       "                                      description    km    year        boite  \\\n",
       "0                    Octavia Combi 2.0 TSI RS DSG   0.0  2014.0  Automatique   \n",
       "1                        Octavia 1.8TSI Scout 4x4   0.0  2015.0  Automatique   \n",
       "2                                         Octavia   0.0  2017.0     Manuelle   \n",
       "3                        Octavia Combi 2.0 TDI RS   0.0  2015.0     Manuelle   \n",
       "4          Octavia Combi 1.8 TSI Ambition 4x4 DSG   0.0  2016.0  Automatique   \n",
       "5                          Octavia 2.0 TSI RS 230   0.0  2015.0  Automatique   \n",
       "6                 Octavia Combi 2.0 TDI Style 4x4   3.0  2018.0  Automatique   \n",
       "7          OCTAVIA Combi 1.6 TDI 115 Ambition 4x4  30.0  2019.0     Manuelle   \n",
       "8                              Octavia 2.0 TDI RS   0.0  2013.0     Manuelle   \n",
       "9    Octavia Combi 1.4 TSI G-tec Ambition CNG DSG   0.0  2018.0  Automatique   \n",
       "10                   Octavia Combi 2.0 TDI RS DSG   0.0  2014.0  Automatique   \n",
       "11            Octavia Combi 2.0 TDI Style 4x4 DSG   0.0  2016.0  Automatique   \n",
       "12                   Octavia Combi 2.0 TSI RS DSG   0.0  2014.0  Automatique   \n",
       "13                   Octavia Combi 2.0 TDI RS DSG   0.0  2014.0  Automatique   \n",
       "14               Octavia Combi 2.0 TDI RS 4x4 DSG   0.0  2018.0  Automatique   \n",
       "15                       Octavia Combi 2.0 TDI RS   0.0  2014.0     Manuelle   \n",
       "16                   Octavia Combi 2.0 TDI RS DSG   0.0  2015.0  Automatique   \n",
       "17                Octavia Combi 2.0 TDI RS XTREME  50.0  2019.0     Manuelle   \n",
       "18        Octavia Combi 2.0 TDI RS XTREME 4x4 DSG   0.0  2018.0  Automatique   \n",
       "19                Octavia Combi 1.4 TSI Style DSG   0.0  2016.0  Automatique   \n",
       "20        Octavia Combi 2.0 TDI Swiss Line 25 4x4   0.0  2017.0     Manuelle   \n",
       "21               Octavia Combi 2.0 TDI Clever DSG   0.0  2018.0  Automatique   \n",
       "22         Octavia Combi 1.8 TSI Elegance 4x4 DSG   0.0  2014.0  Automatique   \n",
       "23             Octavia Combi 2.0 TDI Ambition DSG   0.0  2018.0  Automatique   \n",
       "24         Octavia Combi 2.0 TDI Elegance 4x4 DSG   0.0  2015.0  Automatique   \n",
       "25                Octavia Combi 2.0 TSI Style DSG  50.0  2019.0  Automatique   \n",
       "26               Octavia Combi 2.0 TDI RS 4x4 DSG  20.0  2019.0  Automatique   \n",
       "27                Octavia Combi 2.0 TDI Style 4x4   0.0  2018.0  Automatique   \n",
       "28                Octavia Combi 1.4 TSI Style DSG   0.0  2018.0  Automatique   \n",
       "29             Octavia Combi 1.4 TSI Ambition DSG   0.0  2015.0  Automatique   \n",
       "..                                            ...   ...     ...          ...   \n",
       "469                            Octavia 2.0 TSI RS   0.0  2015.0  Automatique   \n",
       "470                  Octavia Combi 2.0 TDI RS DSG   0.0  2016.0  Automatique   \n",
       "471                      Octavia 1.8TSI Style 4x4   0.0  2016.0  Automatique   \n",
       "472                      Octavia Combi 2.0 TSI RS   0.0  2015.0     Manuelle   \n",
       "473                 Octavia 1.5 G-tec AmbitionCNG  20.0  2019.0  Automatique   \n",
       "474                  Octavia Combi 2.0 TSI RS DSG   0.0  2014.0  Automatique   \n",
       "475        Octavia Combi 2.0 TDI Ambition 4x4 DSG  50.0  2019.0  Automatique   \n",
       "476          Octavia Combi 2.0 TSI Clever 4x4 DSG   0.0  2019.0  Automatique   \n",
       "477                 Octavia 1.5 G-tec AmbitionCNG  20.0  2019.0  Automatique   \n",
       "478        Octavia Combi 2.0 TDI Ambition 4x4 DSG  50.0  2019.0  Automatique   \n",
       "479                  Octavia Combi 1.5 TSI Soleil  50.0  2019.0     Manuelle   \n",
       "480                            Octavia 2.0 TSI RS   0.0  2014.0     Manuelle   \n",
       "481              Octavia Combi 1.5 TSI Soleil DSG   1.0  2019.0  Automatique   \n",
       "482        Octavia Combi 2.0 TDI Ambition 4x4 DSG   0.0  2017.0  Automatique   \n",
       "483               Octavia Combi 1.4 TSI Style DSG   0.0  2018.0  Automatique   \n",
       "484              Octavia Combi 2.0 TDI RS 4x4 DSG   0.0  2017.0  Automatique   \n",
       "485                   Octavia 2.0 TSI RS Line 4x4   5.0  2019.0  Automatique   \n",
       "486                  Octavia Combi 2.0 TSI RS DSG   0.0  2018.0  Automatique   \n",
       "487               Octavia Combi 2.0 TDI Style 4x4   0.0  2018.0  Automatique   \n",
       "488                       OCTAVIA Combi 2.0TSI RS  10.0  2019.0  Automatique   \n",
       "489               Octavia Combi 1.4 TSI Style DSG   0.0  2018.0  Automatique   \n",
       "490              Octavia Combi 2.0 TDI RS 4x4 DSG   0.0  2018.0  Automatique   \n",
       "491            Octavia Combi 2.0 TDI Ambition DSG   0.0  2018.0  Automatique   \n",
       "492               Octavia Combi 1.4 TSI Fresh DSG   0.0  2015.0  Automatique   \n",
       "493                      Octavia Combi 2.0 TSI RS   0.0  2015.0     Manuelle   \n",
       "494              Octavia Combi 2.0 TSI RS 230 DSG   0.0  2016.0  Automatique   \n",
       "495                   Octavia 1.5 G-tec Style CNG   0.0  2019.0  Automatique   \n",
       "496               Octavia Combi 2.0 TDI Style 4x4   1.0  2018.0  Automatique   \n",
       "497                   Octavia 2.0 TSI RS Line 4x4   5.0  2019.0  Automatique   \n",
       "498                                    Octavia RS   0.0  2018.0  Automatique   \n",
       "\n",
       "                    carburant   type  chevaux     couleur                 m  \\\n",
       "0                     Essence  Break    220.0        Gris    Traction avant   \n",
       "1                     Essence  Break    180.0        Gris  4 roues motrices   \n",
       "2                      Diesel  Break      NaN         NaN    Traction avant   \n",
       "3                      Diesel  Break    184.0        Gris    Traction avant   \n",
       "4                     Essence  Break    180.0        Noir  4 roues motrices   \n",
       "5                     Essence  Break    230.0        Gris    Traction avant   \n",
       "6                      Diesel  Break    184.0      Argent  4 roues motrices   \n",
       "7                      Diesel  Break    115.0      Argent  4 roues motrices   \n",
       "8                      Diesel  Break    184.0        Noir    Traction avant   \n",
       "9    Gas (LNG, LPG, GPL, CNG)  Break    110.0       Blanc    Traction avant   \n",
       "10                     Diesel  Break    184.0      Argent    Traction avant   \n",
       "11                     Diesel  Break    184.0        Bleu  4 roues motrices   \n",
       "12                    Essence  Break    220.0       Blanc    Traction avant   \n",
       "13                     Diesel  Break    184.0       Blanc    Traction avant   \n",
       "14                     Diesel  Break    184.0      Argent  4 roues motrices   \n",
       "15                     Diesel  Break    184.0        Bleu    Traction avant   \n",
       "16                     Diesel  Break    184.0        Gris    Traction avant   \n",
       "17                     Diesel  Break    184.0        Gris    Traction avant   \n",
       "18                     Diesel  Break    184.0       Rouge  4 roues motrices   \n",
       "19                    Essence  Break    150.0  Anthracite    Traction avant   \n",
       "20                     Diesel  Break    150.0        Bleu  4 roues motrices   \n",
       "21                     Diesel  Break    150.0      Argent    Traction avant   \n",
       "22                    Essence  Break    180.0       Beige  4 roues motrices   \n",
       "23                     Diesel  Break    150.0        Noir    Traction avant   \n",
       "24                     Diesel  Break    184.0        Gris  4 roues motrices   \n",
       "25                    Essence  Break    190.0      Argent    Traction avant   \n",
       "26                     Diesel  Break    184.0        Gris  4 roues motrices   \n",
       "27                     Diesel  Break    184.0        Gris  4 roues motrices   \n",
       "28                    Essence  Break    150.0       Blanc    Traction avant   \n",
       "29                    Essence  Break    140.0       Blanc    Traction avant   \n",
       "..                        ...    ...      ...         ...               ...   \n",
       "469                   Essence  Break    220.0        Gris    Traction avant   \n",
       "470                    Diesel  Break    184.0       Blanc    Traction avant   \n",
       "471                   Essence  Break    180.0        Gris  4 roues motrices   \n",
       "472                   Essence  Break    220.0        Noir    Traction avant   \n",
       "473                   Essence  Break    130.0       Blanc    Traction avant   \n",
       "474                   Essence  Break    220.0        Bleu    Traction avant   \n",
       "475                    Diesel  Break    150.0       Blanc  4 roues motrices   \n",
       "476                   Essence  Break    190.0       Blanc  4 roues motrices   \n",
       "477                   Essence  Break    130.0        Noir    Traction avant   \n",
       "478                    Diesel  Break    150.0      Argent  4 roues motrices   \n",
       "479                   Essence  Break    150.0       Blanc    Traction avant   \n",
       "480                   Essence  Break    220.0       Blanc    Traction avant   \n",
       "481                   Essence  Break    150.0        Noir    Traction avant   \n",
       "482                    Diesel  Break    184.0       Blanc  4 roues motrices   \n",
       "483                   Essence  Break    150.0        Noir    Traction avant   \n",
       "484                    Diesel  Break    184.0        Bleu  4 roues motrices   \n",
       "485                   Essence  Break    230.0        Noir  4 roues motrices   \n",
       "486                   Essence  Break    245.0        Gris    Traction avant   \n",
       "487                    Diesel  Break    184.0      Argent  4 roues motrices   \n",
       "488                   Essence  Break    245.0        Gris    Traction avant   \n",
       "489                   Essence  Break    150.0        Noir    Traction avant   \n",
       "490                    Diesel  Break    184.0      Argent  4 roues motrices   \n",
       "491                    Diesel  Break    150.0      Argent    Traction avant   \n",
       "492                   Essence  Break    140.0  Anthracite    Traction avant   \n",
       "493                   Essence  Break    220.0        Gris    Traction avant   \n",
       "494                   Essence  Break    230.0        Noir    Traction avant   \n",
       "495                   Essence  Break    130.0        Gris    Traction avant   \n",
       "496                    Diesel  Break    184.0        Bleu  4 roues motrices   \n",
       "497                   Essence  Break    230.0        Gris  4 roues motrices   \n",
       "498                    Diesel  Break    184.0         NaN  4 roues motrices   \n",
       "\n",
       "     expertise date_annonce     prix  \n",
       "0          NaN   ingLocatio  19000.0  \n",
       "1          NaN   ingLocatio  19950.0  \n",
       "2          0.0   {\"event\":\"  18350.0  \n",
       "3          NaN   ingLocatio  22900.0  \n",
       "4          0.0   01.06.2019  19600.0  \n",
       "5          0.0   01.06.2019  32900.0  \n",
       "6          0.0   01.06.2019  27500.0  \n",
       "7          0.0   01.06.2019  27560.0  \n",
       "8          0.0   01.06.2019  17820.0  \n",
       "9          0.0   01.06.2019  22800.0  \n",
       "10         0.0   01.06.2019  15999.0  \n",
       "11         0.0   01.06.2019  15700.0  \n",
       "12         0.0   01.06.2019  22890.0  \n",
       "13         0.0   01.06.2019  18800.0  \n",
       "14         0.0   01.06.2019  26900.0  \n",
       "15         NaN   ingLocatio  20900.0  \n",
       "16         0.0   01.06.2019  15999.0  \n",
       "17         0.0   01.06.2019  34950.0  \n",
       "18         0.0   01.06.2019  35950.0  \n",
       "19         0.0   31.05.2019  17900.0  \n",
       "20         0.0   31.05.2019  20800.0  \n",
       "21         0.0   31.05.2019  33900.0  \n",
       "22         NaN   ingLocatio  18900.0  \n",
       "23         0.0   31.05.2019  22555.0  \n",
       "24         NaN   ingLocatio  21900.0  \n",
       "25         0.0   31.05.2019  42500.0  \n",
       "26         0.0   31.05.2019  43900.0  \n",
       "27         0.0   31.05.2019  27900.0  \n",
       "28         0.0   31.05.2019  23400.0  \n",
       "29         NaN   ingLocatio  16990.0  \n",
       "..         ...          ...      ...  \n",
       "469        0.0   03.05.2019  21900.0  \n",
       "470        0.0   02.05.2019  22900.0  \n",
       "471        0.0   02.05.2019  25400.0  \n",
       "472        NaN   ingLocatio  26900.0  \n",
       "473        0.0   02.05.2019  28990.0  \n",
       "474        0.0   02.05.2019  22900.0  \n",
       "475        0.0   02.05.2019  32400.0  \n",
       "476        0.0   02.05.2019  33990.0  \n",
       "477        0.0   02.05.2019  32200.0  \n",
       "478        0.0   02.05.2019  33990.0  \n",
       "479        0.0   02.05.2019  28900.0  \n",
       "480        NaN   ingLocatio  25990.0  \n",
       "481        0.0   02.05.2019  32490.0  \n",
       "482        0.0   02.05.2019  23900.0  \n",
       "483        0.0   02.05.2019  24750.0  \n",
       "484        0.0   02.05.2019  33990.0  \n",
       "485        NaN   ingLocatio  32890.0  \n",
       "486        0.0   02.05.2019  35890.0  \n",
       "487        0.0   01.05.2019  25900.0  \n",
       "488        0.0   01.05.2019  34800.0  \n",
       "489        0.0   01.05.2019  23200.0  \n",
       "490        0.0   01.05.2019  29890.0  \n",
       "491        0.0   01.05.2019  23500.0  \n",
       "492        0.0   01.05.2019  15500.0  \n",
       "493        NaN   ingLocatio  26990.0  \n",
       "494        NaN   ingLocatio  28450.0  \n",
       "495        0.0   01.05.2019  35300.0  \n",
       "496        0.0   01.05.2019  28000.0  \n",
       "497        0.0   01.05.2019  32890.0  \n",
       "498        NaN   {\"event\":\"  35990.0  \n",
       "\n",
       "[499 rows x 12 columns]"
      ]
     },
     "execution_count": 7,
     "metadata": {},
     "output_type": "execute_result"
    }
   ],
   "source": [
    "df"
   ]
  },
  {
   "cell_type": "markdown",
   "metadata": {},
   "source": [
    "# Diesel Seulement"
   ]
  },
  {
   "cell_type": "markdown",
   "metadata": {},
   "source": [
    "### Selection of RS model"
   ]
  },
  {
   "cell_type": "code",
   "execution_count": 9,
   "metadata": {},
   "outputs": [],
   "source": [
    "rs = df[(df[\"chevaux\"]==184)&(df[\"m\"]==\"Traction avant\")]"
   ]
  },
  {
   "cell_type": "code",
   "execution_count": 10,
   "metadata": {},
   "outputs": [
    {
     "data": {
      "text/plain": [
       "(28, 12)"
      ]
     },
     "execution_count": 10,
     "metadata": {},
     "output_type": "execute_result"
    }
   ],
   "source": [
    "rs.shape"
   ]
  },
  {
   "cell_type": "code",
   "execution_count": 12,
   "metadata": {
    "scrolled": true
   },
   "outputs": [
    {
     "data": {
      "text/html": [
       "<div>\n",
       "<style scoped>\n",
       "    .dataframe tbody tr th:only-of-type {\n",
       "        vertical-align: middle;\n",
       "    }\n",
       "\n",
       "    .dataframe tbody tr th {\n",
       "        vertical-align: top;\n",
       "    }\n",
       "\n",
       "    .dataframe thead th {\n",
       "        text-align: right;\n",
       "    }\n",
       "</style>\n",
       "<table border=\"1\" class=\"dataframe\">\n",
       "  <thead>\n",
       "    <tr style=\"text-align: right;\">\n",
       "      <th></th>\n",
       "      <th>description</th>\n",
       "      <th>km</th>\n",
       "      <th>year</th>\n",
       "      <th>boite</th>\n",
       "      <th>carburant</th>\n",
       "      <th>type</th>\n",
       "      <th>chevaux</th>\n",
       "      <th>couleur</th>\n",
       "      <th>m</th>\n",
       "      <th>expertise</th>\n",
       "      <th>date_annonce</th>\n",
       "      <th>prix</th>\n",
       "    </tr>\n",
       "  </thead>\n",
       "  <tbody>\n",
       "  </tbody>\n",
       "</table>\n",
       "</div>"
      ],
      "text/plain": [
       "Empty DataFrame\n",
       "Columns: [description, km, year, boite, carburant, type, chevaux, couleur, m, expertise, date_annonce, prix]\n",
       "Index: []"
      ]
     },
     "execution_count": 12,
     "metadata": {},
     "output_type": "execute_result"
    }
   ],
   "source": [
    "rs[rs.carburant!=\"Diesel\"] \n",
    "#il n'y a pas de version essence à la revente"
   ]
  },
  {
   "cell_type": "code",
   "execution_count": 13,
   "metadata": {
    "scrolled": true
   },
   "outputs": [
    {
     "data": {
      "text/html": [
       "<div>\n",
       "<style scoped>\n",
       "    .dataframe tbody tr th:only-of-type {\n",
       "        vertical-align: middle;\n",
       "    }\n",
       "\n",
       "    .dataframe tbody tr th {\n",
       "        vertical-align: top;\n",
       "    }\n",
       "\n",
       "    .dataframe thead th {\n",
       "        text-align: right;\n",
       "    }\n",
       "</style>\n",
       "<table border=\"1\" class=\"dataframe\">\n",
       "  <thead>\n",
       "    <tr style=\"text-align: right;\">\n",
       "      <th></th>\n",
       "      <th>description</th>\n",
       "      <th>km</th>\n",
       "      <th>year</th>\n",
       "      <th>boite</th>\n",
       "      <th>carburant</th>\n",
       "      <th>type</th>\n",
       "      <th>chevaux</th>\n",
       "      <th>couleur</th>\n",
       "      <th>m</th>\n",
       "      <th>expertise</th>\n",
       "      <th>date_annonce</th>\n",
       "      <th>prix</th>\n",
       "    </tr>\n",
       "  </thead>\n",
       "  <tbody>\n",
       "    <tr>\n",
       "      <th>283</th>\n",
       "      <td>Octavia 2.0 TDI RS DSG</td>\n",
       "      <td>0.0</td>\n",
       "      <td>2015.0</td>\n",
       "      <td>Automatique</td>\n",
       "      <td>Diesel</td>\n",
       "      <td>Berline</td>\n",
       "      <td>184.0</td>\n",
       "      <td>Blanc</td>\n",
       "      <td>Traction avant</td>\n",
       "      <td>0.0</td>\n",
       "      <td>14.05.2019</td>\n",
       "      <td>15950.0</td>\n",
       "    </tr>\n",
       "  </tbody>\n",
       "</table>\n",
       "</div>"
      ],
      "text/plain": [
       "                description   km    year        boite carburant     type  \\\n",
       "283  Octavia 2.0 TDI RS DSG  0.0  2015.0  Automatique    Diesel  Berline   \n",
       "\n",
       "     chevaux couleur               m  expertise date_annonce     prix  \n",
       "283    184.0   Blanc  Traction avant        0.0   14.05.2019  15950.0  "
      ]
     },
     "execution_count": 13,
     "metadata": {},
     "output_type": "execute_result"
    }
   ],
   "source": [
    "rs[rs.type!=\"Break\"] \n",
    "#et une seule Berline que nous allons considérer comme outlier"
   ]
  },
  {
   "cell_type": "code",
   "execution_count": 14,
   "metadata": {},
   "outputs": [],
   "source": [
    "rs = rs.drop([283])"
   ]
  },
  {
   "cell_type": "markdown",
   "metadata": {},
   "source": [
    "### Plotting"
   ]
  },
  {
   "cell_type": "code",
   "execution_count": 15,
   "metadata": {},
   "outputs": [],
   "source": [
    "#fct plot prix en fct de l'année\n",
    "def plt_year(df):\n",
    "    df.copy()\n",
    "    plt.scatter(df.year,df.prix)\n",
    "    plt.xlabel(\"Année de construction\")\n",
    "    plt.ylabel(\"Prix en CHF\")\n",
    "    plt.show()"
   ]
  },
  {
   "cell_type": "code",
   "execution_count": 16,
   "metadata": {
    "scrolled": true
   },
   "outputs": [
    {
     "data": {
      "image/png": "[encoded data removed]",
      "text/plain": [
       "<Figure size 432x288 with 1 Axes>"
      ]
     },
     "metadata": {
      "needs_background": "light"
     },
     "output_type": "display_data"
    }
   ],
   "source": [
    "plt_year(rs)"
   ]
  },
  {
   "cell_type": "code",
   "execution_count": 17,
   "metadata": {},
   "outputs": [],
   "source": [
    "#fct plot prix en fct de l'année\n",
    "def plt_duree(df):\n",
    "    df.copy()\n",
    "    plt.scatter(2019.5-df.year,df.prix)   \n",
    "    plt.xlabel(\"Âge voiture\")\n",
    "    plt.ylabel(\"Prix en CHF\")\n",
    "    plt.show()"
   ]
  },
  {
   "cell_type": "code",
   "execution_count": 18,
   "metadata": {
    "scrolled": true
   },
   "outputs": [
    {
     "data": {
      "image/png": "[encoded data removed]",
      "text/plain": [
       "<Figure size 432x288 with 1 Axes>"
      ]
     },
     "metadata": {
      "needs_background": "light"
     },
     "output_type": "display_data"
    }
   ],
   "source": [
    "plt_duree(rs)"
   ]
  },
  {
   "cell_type": "code",
   "execution_count": 19,
   "metadata": {},
   "outputs": [],
   "source": [
    "#fct plot prix en fct de l'année\n",
    "def box_plt_duree(df,ordonnee,abscisse):\n",
    "    df.copy()\n",
    "    df.boxplot(column=ordonnee,by=abscisse)\n",
    "    plt.show()"
   ]
  },
  {
   "cell_type": "code",
   "execution_count": 20,
   "metadata": {
    "scrolled": true
   },
   "outputs": [
    {
     "data": {
      "image/png": "[encoded data removed]",
      "text/plain": [
       "<Figure size 432x288 with 1 Axes>"
      ]
     },
     "metadata": {
      "needs_background": "light"
     },
     "output_type": "display_data"
    }
   ],
   "source": [
    "box_plt_duree(rs,ordonnee=\"prix\",abscisse=\"year\")"
   ]
  },
  {
   "cell_type": "code",
   "execution_count": 21,
   "metadata": {
    "scrolled": false
   },
   "outputs": [
    {
     "data": {
      "image/png": "[encoded data removed]",
      "text/plain": [
       "<Figure size 432x288 with 1 Axes>"
      ]
     },
     "metadata": {
      "needs_background": "light"
     },
     "output_type": "display_data"
    }
   ],
   "source": [
    "box_plt_duree(rs,ordonnee=\"prix\",abscisse=\"boite\")"
   ]
  },
  {
   "cell_type": "markdown",
   "metadata": {},
   "source": [
    "https://towardsdatascience.com/understanding-boxplots-5e2df7bcbd51"
   ]
  },
  {
   "cell_type": "markdown",
   "metadata": {},
   "source": [
    "### Selection of RS model + 4 roues motrices"
   ]
  },
  {
   "cell_type": "code",
   "execution_count": 24,
   "metadata": {},
   "outputs": [],
   "source": [
    "rs4m = df[(df[\"chevaux\"]==184)&(df[\"m\"]==\"4 roues motrices\")]"
   ]
  },
  {
   "cell_type": "code",
   "execution_count": 27,
   "metadata": {},
   "outputs": [
    {
     "data": {
      "text/html": [
       "<div>\n",
       "<style scoped>\n",
       "    .dataframe tbody tr th:only-of-type {\n",
       "        vertical-align: middle;\n",
       "    }\n",
       "\n",
       "    .dataframe tbody tr th {\n",
       "        vertical-align: top;\n",
       "    }\n",
       "\n",
       "    .dataframe thead th {\n",
       "        text-align: right;\n",
       "    }\n",
       "</style>\n",
       "<table border=\"1\" class=\"dataframe\">\n",
       "  <thead>\n",
       "    <tr style=\"text-align: right;\">\n",
       "      <th></th>\n",
       "      <th>description</th>\n",
       "      <th>km</th>\n",
       "      <th>year</th>\n",
       "      <th>boite</th>\n",
       "      <th>carburant</th>\n",
       "      <th>type</th>\n",
       "      <th>chevaux</th>\n",
       "      <th>couleur</th>\n",
       "      <th>m</th>\n",
       "      <th>expertise</th>\n",
       "      <th>date_annonce</th>\n",
       "      <th>prix</th>\n",
       "    </tr>\n",
       "  </thead>\n",
       "  <tbody>\n",
       "    <tr>\n",
       "      <th>6</th>\n",
       "      <td>Octavia Combi 2.0 TDI Style 4x4</td>\n",
       "      <td>3.0</td>\n",
       "      <td>2018.0</td>\n",
       "      <td>Automatique</td>\n",
       "      <td>Diesel</td>\n",
       "      <td>Break</td>\n",
       "      <td>184.0</td>\n",
       "      <td>Argent</td>\n",
       "      <td>4 roues motrices</td>\n",
       "      <td>0.0</td>\n",
       "      <td>01.06.2019</td>\n",
       "      <td>27500.0</td>\n",
       "    </tr>\n",
       "    <tr>\n",
       "      <th>11</th>\n",
       "      <td>Octavia Combi 2.0 TDI Style 4x4 DSG</td>\n",
       "      <td>0.0</td>\n",
       "      <td>2016.0</td>\n",
       "      <td>Automatique</td>\n",
       "      <td>Diesel</td>\n",
       "      <td>Break</td>\n",
       "      <td>184.0</td>\n",
       "      <td>Bleu</td>\n",
       "      <td>4 roues motrices</td>\n",
       "      <td>0.0</td>\n",
       "      <td>01.06.2019</td>\n",
       "      <td>15700.0</td>\n",
       "    </tr>\n",
       "    <tr>\n",
       "      <th>14</th>\n",
       "      <td>Octavia Combi 2.0 TDI RS 4x4 DSG</td>\n",
       "      <td>0.0</td>\n",
       "      <td>2018.0</td>\n",
       "      <td>Automatique</td>\n",
       "      <td>Diesel</td>\n",
       "      <td>Break</td>\n",
       "      <td>184.0</td>\n",
       "      <td>Argent</td>\n",
       "      <td>4 roues motrices</td>\n",
       "      <td>0.0</td>\n",
       "      <td>01.06.2019</td>\n",
       "      <td>26900.0</td>\n",
       "    </tr>\n",
       "    <tr>\n",
       "      <th>18</th>\n",
       "      <td>Octavia Combi 2.0 TDI RS XTREME 4x4 DSG</td>\n",
       "      <td>0.0</td>\n",
       "      <td>2018.0</td>\n",
       "      <td>Automatique</td>\n",
       "      <td>Diesel</td>\n",
       "      <td>Break</td>\n",
       "      <td>184.0</td>\n",
       "      <td>Rouge</td>\n",
       "      <td>4 roues motrices</td>\n",
       "      <td>0.0</td>\n",
       "      <td>01.06.2019</td>\n",
       "      <td>35950.0</td>\n",
       "    </tr>\n",
       "    <tr>\n",
       "      <th>24</th>\n",
       "      <td>Octavia Combi 2.0 TDI Elegance 4x4 DSG</td>\n",
       "      <td>0.0</td>\n",
       "      <td>2015.0</td>\n",
       "      <td>Automatique</td>\n",
       "      <td>Diesel</td>\n",
       "      <td>Break</td>\n",
       "      <td>184.0</td>\n",
       "      <td>Gris</td>\n",
       "      <td>4 roues motrices</td>\n",
       "      <td>NaN</td>\n",
       "      <td>ingLocatio</td>\n",
       "      <td>21900.0</td>\n",
       "    </tr>\n",
       "  </tbody>\n",
       "</table>\n",
       "</div>"
      ],
      "text/plain": [
       "                                description   km    year        boite  \\\n",
       "6           Octavia Combi 2.0 TDI Style 4x4  3.0  2018.0  Automatique   \n",
       "11      Octavia Combi 2.0 TDI Style 4x4 DSG  0.0  2016.0  Automatique   \n",
       "14         Octavia Combi 2.0 TDI RS 4x4 DSG  0.0  2018.0  Automatique   \n",
       "18  Octavia Combi 2.0 TDI RS XTREME 4x4 DSG  0.0  2018.0  Automatique   \n",
       "24   Octavia Combi 2.0 TDI Elegance 4x4 DSG  0.0  2015.0  Automatique   \n",
       "\n",
       "   carburant   type  chevaux couleur                 m  expertise  \\\n",
       "6     Diesel  Break    184.0  Argent  4 roues motrices        0.0   \n",
       "11    Diesel  Break    184.0    Bleu  4 roues motrices        0.0   \n",
       "14    Diesel  Break    184.0  Argent  4 roues motrices        0.0   \n",
       "18    Diesel  Break    184.0   Rouge  4 roues motrices        0.0   \n",
       "24    Diesel  Break    184.0    Gris  4 roues motrices        NaN   \n",
       "\n",
       "   date_annonce     prix  \n",
       "6    01.06.2019  27500.0  \n",
       "11   01.06.2019  15700.0  \n",
       "14   01.06.2019  26900.0  \n",
       "18   01.06.2019  35950.0  \n",
       "24   ingLocatio  21900.0  "
      ]
     },
     "execution_count": 27,
     "metadata": {},
     "output_type": "execute_result"
    }
   ],
   "source": [
    "rs4m.head()"
   ]
  },
  {
   "cell_type": "code",
   "execution_count": 28,
   "metadata": {},
   "outputs": [
    {
     "data": {
      "text/plain": [
       "(122, 12)"
      ]
     },
     "execution_count": 28,
     "metadata": {},
     "output_type": "execute_result"
    }
   ],
   "source": [
    "rs4m.shape"
   ]
  },
  {
   "cell_type": "code",
   "execution_count": 29,
   "metadata": {
    "scrolled": false
   },
   "outputs": [
    {
     "data": {
      "image/png": "[encoded data removed]",
      "text/plain": [
       "<Figure size 432x288 with 1 Axes>"
      ]
     },
     "metadata": {
      "needs_background": "light"
     },
     "output_type": "display_data"
    }
   ],
   "source": [
    "box_plt_duree(rs4m,ordonnee=\"prix\",abscisse=\"year\")"
   ]
  },
  {
   "cell_type": "code",
   "execution_count": 30,
   "metadata": {
    "scrolled": true
   },
   "outputs": [
    {
     "data": {
      "image/png": "[encoded data removed]",
      "text/plain": [
       "<Figure size 432x288 with 1 Axes>"
      ]
     },
     "metadata": {
      "needs_background": "light"
     },
     "output_type": "display_data"
    }
   ],
   "source": [
    "box_plt_duree(rs4m,ordonnee=\"prix\",abscisse=\"boite\")"
   ]
  },
  {
   "cell_type": "markdown",
   "metadata": {},
   "source": [
    "### Selection of 150ch model + 4 roues motrices"
   ]
  },
  {
   "cell_type": "code",
   "execution_count": 142,
   "metadata": {},
   "outputs": [],
   "source": [
    "norm150_4m = df[(df[\"chevaux\"]==150)&(df[\"m\"]==\"4 roues motrices\")]"
   ]
  },
  {
   "cell_type": "code",
   "execution_count": 143,
   "metadata": {
    "scrolled": false
   },
   "outputs": [
    {
     "data": {
      "image/png": "[encoded data removed]",
      "text/plain": [
       "<Figure size 432x288 with 1 Axes>"
      ]
     },
     "metadata": {
      "needs_background": "light"
     },
     "output_type": "display_data"
    }
   ],
   "source": [
    "box_plt_duree(norm150_4m,ordonnee=\"prix\",abscisse=\"year\")"
   ]
  },
  {
   "cell_type": "markdown",
   "metadata": {},
   "source": [
    "### Selection of 150ch model + 4 roues motrices"
   ]
  },
  {
   "cell_type": "code",
   "execution_count": 144,
   "metadata": {},
   "outputs": [],
   "source": [
    "norm150 = df[df[\"chevaux\"]==150]"
   ]
  },
  {
   "cell_type": "code",
   "execution_count": 145,
   "metadata": {
    "scrolled": false
   },
   "outputs": [
    {
     "data": {
      "image/png": "[encoded data removed]",
      "text/plain": [
       "<Figure size 432x288 with 1 Axes>"
      ]
     },
     "metadata": {
      "needs_background": "light"
     },
     "output_type": "display_data"
    }
   ],
   "source": [
    "box_plt_duree(norm150,ordonnee=\"prix\",abscisse=\"year\")"
   ]
  },
  {
   "cell_type": "markdown",
   "metadata": {},
   "source": [
    "## Full df"
   ]
  },
  {
   "cell_type": "code",
   "execution_count": 31,
   "metadata": {
    "scrolled": true
   },
   "outputs": [
    {
     "data": {
      "text/html": [
       "<div>\n",
       "<style scoped>\n",
       "    .dataframe tbody tr th:only-of-type {\n",
       "        vertical-align: middle;\n",
       "    }\n",
       "\n",
       "    .dataframe tbody tr th {\n",
       "        vertical-align: top;\n",
       "    }\n",
       "\n",
       "    .dataframe thead th {\n",
       "        text-align: right;\n",
       "    }\n",
       "</style>\n",
       "<table border=\"1\" class=\"dataframe\">\n",
       "  <thead>\n",
       "    <tr style=\"text-align: right;\">\n",
       "      <th></th>\n",
       "      <th>km</th>\n",
       "      <th>year</th>\n",
       "      <th>chevaux</th>\n",
       "      <th>expertise</th>\n",
       "      <th>prix</th>\n",
       "    </tr>\n",
       "  </thead>\n",
       "  <tbody>\n",
       "    <tr>\n",
       "      <th>count</th>\n",
       "      <td>499.000000</td>\n",
       "      <td>499.000000</td>\n",
       "      <td>498.000000</td>\n",
       "      <td>387.0</td>\n",
       "      <td>499.000000</td>\n",
       "    </tr>\n",
       "    <tr>\n",
       "      <th>mean</th>\n",
       "      <td>5.773547</td>\n",
       "      <td>2016.961924</td>\n",
       "      <td>173.355422</td>\n",
       "      <td>0.0</td>\n",
       "      <td>26800.026052</td>\n",
       "    </tr>\n",
       "    <tr>\n",
       "      <th>std</th>\n",
       "      <td>12.697232</td>\n",
       "      <td>1.913950</td>\n",
       "      <td>32.437344</td>\n",
       "      <td>0.0</td>\n",
       "      <td>7596.042422</td>\n",
       "    </tr>\n",
       "    <tr>\n",
       "      <th>min</th>\n",
       "      <td>0.000000</td>\n",
       "      <td>2009.000000</td>\n",
       "      <td>105.000000</td>\n",
       "      <td>0.0</td>\n",
       "      <td>15000.000000</td>\n",
       "    </tr>\n",
       "    <tr>\n",
       "      <th>25%</th>\n",
       "      <td>0.000000</td>\n",
       "      <td>2015.000000</td>\n",
       "      <td>150.000000</td>\n",
       "      <td>0.0</td>\n",
       "      <td>20850.000000</td>\n",
       "    </tr>\n",
       "    <tr>\n",
       "      <th>50%</th>\n",
       "      <td>0.000000</td>\n",
       "      <td>2018.000000</td>\n",
       "      <td>184.000000</td>\n",
       "      <td>0.0</td>\n",
       "      <td>25900.000000</td>\n",
       "    </tr>\n",
       "    <tr>\n",
       "      <th>75%</th>\n",
       "      <td>5.000000</td>\n",
       "      <td>2019.000000</td>\n",
       "      <td>184.000000</td>\n",
       "      <td>0.0</td>\n",
       "      <td>32485.000000</td>\n",
       "    </tr>\n",
       "    <tr>\n",
       "      <th>max</th>\n",
       "      <td>90.000000</td>\n",
       "      <td>2019.000000</td>\n",
       "      <td>245.000000</td>\n",
       "      <td>0.0</td>\n",
       "      <td>49300.000000</td>\n",
       "    </tr>\n",
       "  </tbody>\n",
       "</table>\n",
       "</div>"
      ],
      "text/plain": [
       "               km         year     chevaux  expertise          prix\n",
       "count  499.000000   499.000000  498.000000      387.0    499.000000\n",
       "mean     5.773547  2016.961924  173.355422        0.0  26800.026052\n",
       "std     12.697232     1.913950   32.437344        0.0   7596.042422\n",
       "min      0.000000  2009.000000  105.000000        0.0  15000.000000\n",
       "25%      0.000000  2015.000000  150.000000        0.0  20850.000000\n",
       "50%      0.000000  2018.000000  184.000000        0.0  25900.000000\n",
       "75%      5.000000  2019.000000  184.000000        0.0  32485.000000\n",
       "max     90.000000  2019.000000  245.000000        0.0  49300.000000"
      ]
     },
     "execution_count": 31,
     "metadata": {},
     "output_type": "execute_result"
    }
   ],
   "source": [
    "df.describe()"
   ]
  },
  {
   "cell_type": "code",
   "execution_count": 139,
   "metadata": {},
   "outputs": [
    {
     "data": {
      "text/plain": [
       "(424, 12)"
      ]
     },
     "execution_count": 139,
     "metadata": {},
     "output_type": "execute_result"
    }
   ],
   "source": [
    "#regardons uniquement les voitures qui sont automatiques\n",
    "#sachant que la DSG7 n'est arrivée qu'en 2017 ou 2018\n",
    "df1 = df[df.boite==\"Automatique\"]\n",
    "df1.shape"
   ]
  },
  {
   "cell_type": "code",
   "execution_count": 140,
   "metadata": {
    "scrolled": false
   },
   "outputs": [
    {
     "data": {
      "image/png": "[encoded data removed]",
      "text/plain": [
       "<Figure size 432x288 with 1 Axes>"
      ]
     },
     "metadata": {
      "needs_background": "light"
     },
     "output_type": "display_data"
    }
   ],
   "source": [
    "box_plt_duree(df1,ordonnee=\"prix\",abscisse=\"year\")"
   ]
  },
  {
   "cell_type": "code",
   "execution_count": 85,
   "metadata": {},
   "outputs": [],
   "source": [
    "def prix_moyen(df):\n",
    "    df_150=df.copy()\n",
    "    #evo_prix = []\n",
    "    for k in range(5):\n",
    "        #print(k)\n",
    "        print(\"201\"+str(5+k)+\": \",round(df_150[df_150.year==(2014+k)].prix.mean()))\n",
    "        #evo_prix.append(round(df_150[df_150.year==(2014+k)].prix.mean()))\n",
    "    "
   ]
  },
  {
   "cell_type": "markdown",
   "metadata": {},
   "source": [
    "###FAUX CAR MAUVAISE DF\n",
    "Les prix des RS sont d'environ 27500 pour un modèle 2018\n",
    "et 22200 pour un modèle 2017 \n",
    "les modèles à 150ch sont en moyenne au même prix pour un modèle 2018.\n",
    "\n",
    "\n",
    "OUI MAIS COMBIEN DE KM?"
   ]
  },
  {
   "cell_type": "code",
   "execution_count": 90,
   "metadata": {
    "scrolled": false
   },
   "outputs": [
    {
     "name": "stdout",
     "output_type": "stream",
     "text": [
      "2015:  18361\n",
      "2016:  20109\n",
      "2017:  22056\n",
      "2018:  27452\n",
      "2019:  30950\n"
     ]
    }
   ],
   "source": [
    "prix_moyen(df1[df1.chevaux==184])\n",
    "#pour les RS, on a un budget pour une voiture 2017."
   ]
  },
  {
   "cell_type": "code",
   "execution_count": 97,
   "metadata": {},
   "outputs": [
    {
     "data": {
      "text/plain": [
       "27452.30769230769"
      ]
     },
     "execution_count": 97,
     "metadata": {},
     "output_type": "execute_result"
    }
   ],
   "source": [
    "df1[(df1.year==2017)&(df1.chevaux==184)].prix.mean()\n",
    "#overbudget"
   ]
  },
  {
   "cell_type": "code",
   "execution_count": 100,
   "metadata": {},
   "outputs": [
    {
     "data": {
      "text/plain": [
       "22056.0"
      ]
     },
     "execution_count": 100,
     "metadata": {},
     "output_type": "execute_result"
    }
   ],
   "source": [
    "df1[(df1.year==2016)&(df1.chevaux==184)].prix.mean()\n",
    "#okbudget"
   ]
  },
  {
   "cell_type": "code",
   "execution_count": 102,
   "metadata": {},
   "outputs": [
    {
     "data": {
      "text/plain": [
       "26249.886363636364"
      ]
     },
     "execution_count": 102,
     "metadata": {},
     "output_type": "execute_result"
    }
   ],
   "source": [
    "df1[(df1.year==2018)&(df1.chevaux==150)].prix.mean()\n",
    "#un peu overbudget"
   ]
  },
  {
   "cell_type": "code",
   "execution_count": 112,
   "metadata": {},
   "outputs": [
    {
     "name": "stdout",
     "output_type": "stream",
     "text": [
      "perte moyenne annuelle en 4 ans: 3620.75\n"
     ]
    }
   ],
   "source": [
    "#perte entre 2015 et 2019\n",
    "a = round(df1[df1.year==2019].prix.mean()-df1[df1.year==2015].prix.mean())\n",
    "#une voiture neuve perd cette valeur en 4 ans\n",
    "print(\"perte moyenne annuelle entre sa 0eme et 4eme annee:\",a/4)"
   ]
  },
  {
   "cell_type": "code",
   "execution_count": 117,
   "metadata": {},
   "outputs": [
    {
     "name": "stdout",
     "output_type": "stream",
     "text": [
      "perte moyenne annuelle entre sa 1ere et 3eme annee: 2858\n"
     ]
    }
   ],
   "source": [
    "#perte entre 2015 et 2018\n",
    "a = round(df1[df1.year==2018].prix.mean()-df1[df1.year==2015].prix.mean())\n",
    "#une voiture neuve perd cette valeur en 4 ans\n",
    "print(\"perte moyenne annuelle entre sa 1ere et 4eme annee:\",round(a/3))"
   ]
  },
  {
   "cell_type": "code",
   "execution_count": 119,
   "metadata": {},
   "outputs": [
    {
     "name": "stdout",
     "output_type": "stream",
     "text": [
      "perte moyenne annuelle entre sa 2eme et 3eme annee: 2374\n"
     ]
    }
   ],
   "source": [
    "#perte entre 2015 et 2018\n",
    "a = round(df1[df1.year==2017].prix.mean()-df1[df1.year==2015].prix.mean())\n",
    "#une voiture neuve perd cette valeur en 4 ans\n",
    "print(\"perte moyenne annuelle entre sa 2eme et 4eme annee:\",round(a/2))"
   ]
  },
  {
   "cell_type": "code",
   "execution_count": 120,
   "metadata": {},
   "outputs": [
    {
     "name": "stdout",
     "output_type": "stream",
     "text": [
      "perte moyenne annuelle entre sa 3eme et 4eme annee: 986\n"
     ]
    }
   ],
   "source": [
    "#perte entre 2015 et 2018\n",
    "a = round(df1[df1.year==2016].prix.mean()-df1[df1.year==2015].prix.mean())\n",
    "#une voiture neuve perd cette valeur en 4 ans\n",
    "print(\"perte moyenne annuelle entre sa 3eme et 4eme annee:\",round(a))"
   ]
  },
  {
   "cell_type": "markdown",
   "metadata": {},
   "source": [
    "#### D'une annee a l'autre"
   ]
  },
  {
   "cell_type": "code",
   "execution_count": 132,
   "metadata": {},
   "outputs": [
    {
     "name": "stdout",
     "output_type": "stream",
     "text": [
      "perte 1ere annee: 5909 .-\n"
     ]
    }
   ],
   "source": [
    "a = round(df1[df1.year==2019].prix.mean()-df1[df1.year==2018].prix.mean())\n",
    "print(\"perte 1ere annee:\",a,\".-\")"
   ]
  },
  {
   "cell_type": "code",
   "execution_count": 133,
   "metadata": {},
   "outputs": [
    {
     "name": "stdout",
     "output_type": "stream",
     "text": [
      "perte 2eme annee: 3828 .-\n"
     ]
    }
   ],
   "source": [
    "a = round(df1[df1.year==2018].prix.mean()-df1[df1.year==2017].prix.mean())\n",
    "print(\"perte 2eme annee:\",a,\".-\")"
   ]
  },
  {
   "cell_type": "code",
   "execution_count": 133,
   "metadata": {},
   "outputs": [
    {
     "name": "stdout",
     "output_type": "stream",
     "text": [
      "perte 2eme annee: 3828 .-\n"
     ]
    }
   ],
   "source": [
    "a = round(-df1[df1.year==2017].prix.mean())\n",
    "print(\"perte 2eme annee:\",a,\".-\")"
   ]
  },
  {
   "cell_type": "code",
   "execution_count": 134,
   "metadata": {},
   "outputs": [
    {
     "name": "stdout",
     "output_type": "stream",
     "text": [
      "perte 3eme annee: 3762 .-\n"
     ]
    }
   ],
   "source": [
    "a = round(df1[df1.year==2017].prix.mean()-df1[df1.year==2016].prix.mean())\n",
    "print(\"perte 3eme annee:\",a,\".-\")"
   ]
  },
  {
   "cell_type": "code",
   "execution_count": 135,
   "metadata": {},
   "outputs": [
    {
     "name": "stdout",
     "output_type": "stream",
     "text": [
      "perte 4eme annee: 986 .-\n"
     ]
    }
   ],
   "source": [
    "a = round(df1[df1.year==2016].prix.mean()-df1[df1.year==2015].prix.mean())\n",
    "print(\"perte 4eme annee:\",a,\".-\")"
   ]
  },
  {
   "cell_type": "markdown",
   "metadata": {},
   "source": [
    "CCL\n",
    "- le coût d'une voiture achetée à 1 an d'âge et revendue après 3 années est de 2800 CHF/an\n",
    "- Oui mais avec combien de km???\n",
    "- le coût d'une RS existe aussi dans les réparations donc c'est un choix à faire pour une voiture plutôt récente\n",
    "\n",
    "- liste des options obligatoires\n",
    "    - assurance constructeur\n",
    "    - automatique\n",
    "    - 150 ch min\n",
    "    - conso faible\n",
    "    - frais fixes faibles\n",
    "    \n",
    "\n",
    "Dans notre budget (20-25kCHF):\n",
    "- 2016 pour une RS\n",
    "- même prix et 2017 pour une normale 150ch\n",
    "- normale 2018 pour 26k"
   ]
  },
  {
   "cell_type": "markdown",
   "metadata": {},
   "source": [
    "NEXT STEPS:\n",
    "- evaluer consommations\n",
    "- faire les graphes avec la prise en compte des km\n",
    "- demander offres assurances\n",
    "- demander offres taxe annuelle\n",
    "- réévaluer la perte annuelle moyenne\n",
    "- aller tester les 2 modèles \n",
    "- voir les prix en allemagne et évaluer les coûts de douane"
   ]
  },
  {
   "cell_type": "markdown",
   "metadata": {},
   "source": [
    "# ICI\n",
    "## Feedback improvement scraping\n",
    "    - scrapper la totalité des 1900 voitures\n",
    "    - recalculer les km\n",
    "    - ajouter les liens dans une colonne au cas où une sorte du lot \n",
    "\n",
    "## Feedback analyse\n",
    "    - creer matrice d'analyse de coûts entre x et y annees d'existance\n",
    "    - pour chaque catégorie qui nous intéresse\n",
    "    - associer ces analyses aux nombres de km de ces voitures "
   ]
  },
  {
   "cell_type": "code",
   "execution_count": null,
   "metadata": {},
   "outputs": [],
   "source": []
  }
 ],
 "metadata": {
  "kernelspec": {
   "display_name": "Python 3",
   "language": "python",
   "name": "python3"
  },
  "language_info": {
   "codemirror_mode": {
    "name": "ipython",
    "version": 3
   },
   "file_extension": ".py",
   "mimetype": "text/x-python",
   "name": "python",
   "nbconvert_exporter": "python",
   "pygments_lexer": "ipython3",
   "version": "3.7.1"
  }
 },
 "nbformat": 4,
 "nbformat_minor": 2
}
